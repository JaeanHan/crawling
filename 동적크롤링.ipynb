{
  "cells": [
    {
      "cell_type": "markdown",
      "metadata": {
        "id": "view-in-github",
        "colab_type": "text"
      },
      "source": [
        "<a href=\"https://colab.research.google.com/github/JaeanHan/crawling/blob/main/%EB%8F%99%EC%A0%81%ED%81%AC%EB%A1%A4%EB%A7%81.ipynb\" target=\"_parent\"><img src=\"https://colab.research.google.com/assets/colab-badge.svg\" alt=\"Open In Colab\"/></a>"
      ]
    },
    {
      "cell_type": "markdown",
      "id": "458edb61",
      "metadata": {
        "id": "458edb61"
      },
      "source": [
        "# 동적크롤링"
      ]
    },
    {
      "cell_type": "markdown",
      "id": "5afc1d0c",
      "metadata": {
        "id": "5afc1d0c"
      },
      "source": [
        "- selenium으로 구조에 접근하는 방법\n",
        "  - 단일객체 반환(bs4 find()와 같은 형태)\n",
        "    - find_element_by_id\n",
        "    - find_element_by_xpath\n",
        "    - find_element_by_tag_name\n",
        "    - find_element_by_partial_link_text\n",
        "    - find_element_by_name\n",
        "    - find_element_by_class_name\n",
        "    - find_element_by_css_selector\n",
        "  - 리스트객체 반환(bs4 find_all()와 같은 형태)\n",
        "    - find_elements_by_id\n",
        "    - find_elements_by_xpath\n",
        "    - find_elements_by_tag_name\n",
        "    - find_elements_by_partial_link_text\n",
        "    - find_elements_by_name\n",
        "    - find_elements_by_class_name\n",
        "    - find_elements_by_css_selector"
      ]
    },
    {
      "cell_type": "code",
      "execution_count": null,
      "id": "cfb5a5be",
      "metadata": {
        "id": "cfb5a5be"
      },
      "outputs": [],
      "source": [
        "from selenium import webdriver\n",
        "import time"
      ]
    },
    {
      "cell_type": "code",
      "execution_count": null,
      "id": "749aee0b",
      "metadata": {
        "id": "749aee0b"
      },
      "outputs": [],
      "source": [
        "driver = webdriver.Chrome('chromedriver')"
      ]
    },
    {
      "cell_type": "code",
      "execution_count": null,
      "id": "ea32cde0",
      "metadata": {
        "id": "ea32cde0"
      },
      "outputs": [],
      "source": [
        "url = 'https://www.naver.com'\n",
        "driver = webdriver.Chrome('chromedriver')\n",
        "driver.get(url)"
      ]
    },
    {
      "cell_type": "code",
      "execution_count": null,
      "id": "e504ccfc",
      "metadata": {
        "id": "e504ccfc",
        "outputId": "29c04670-6ecd-4a67-d448-302f477102df"
      },
      "outputs": [
        {
          "name": "stdout",
          "output_type": "stream",
          "text": [
            "<selenium.webdriver.remote.webelement.WebElement (session=\"6fc7ec8de0ad13b50a4cabf0543e4c79\", element=\"a0fd4d4c-9d75-4d06-8292-b1beae3aff8e\")>\n"
          ]
        }
      ],
      "source": [
        "# test url\n",
        "url = 'https://pjt3591oo.github.io'\n",
        "driver = webdriver.Chrome('chromedriver')\n",
        "driver.get(url)\n",
        "selector = driver.find_element_by_css_selector('body > main > div > div > div:nth-child(9)')\n",
        "print(selector)\n",
        "# driver.close()"
      ]
    },
    {
      "cell_type": "code",
      "execution_count": null,
      "id": "7fa659b8",
      "metadata": {
        "id": "7fa659b8",
        "outputId": "9f898a6a-2c2b-4886-847d-478cf3d0da02"
      },
      "outputs": [
        {
          "data": {
            "text/plain": [
              "'[programming] [react] react 작업환경 설\\nreact를 시작하기 전에 환경셋팅을 해보자\\n2017-05-20 06:29:05 +0000   |   박정태'"
            ]
          },
          "execution_count": 6,
          "metadata": {},
          "output_type": "execute_result"
        }
      ],
      "source": [
        "# encoding된 값을 문자형태로 변환\n",
        "selector.text"
      ]
    },
    {
      "cell_type": "code",
      "execution_count": null,
      "id": "417ec8a1",
      "metadata": {
        "id": "417ec8a1",
        "outputId": "79f0ca2d-6d44-416f-bbaa-532eb3e70141"
      },
      "outputs": [
        {
          "name": "stdout",
          "output_type": "stream",
          "text": [
            "div\n"
          ]
        }
      ],
      "source": [
        "# 태그이름 들고오기\n",
        "print(selector.tag_name)"
      ]
    },
    {
      "cell_type": "code",
      "execution_count": null,
      "id": "b7d2bddf",
      "metadata": {
        "collapsed": true,
        "id": "b7d2bddf",
        "outputId": "b1eceed8-2a4b-46f4-bf29-17870f94f61b"
      },
      "outputs": [
        {
          "ename": "NoSuchElementException",
          "evalue": "Message: no such element: Unable to locate element: {\"method\":\"css selector\",\"selector\":\".a\"}\n  (Session info: chrome=101.0.4951.54)\n",
          "output_type": "error",
          "traceback": [
            "\u001b[1;31m----------------------------------------------------\u001b[0m",
            "\u001b[1;31mNoSuchElementException\u001b[0mTraceback (most recent call last)",
            "\u001b[1;32m<ipython-input-10-f87bb948f5c3>\u001b[0m in \u001b[0;36m<module>\u001b[1;34m\u001b[0m\n\u001b[0;32m      2\u001b[0m \u001b[0murl\u001b[0m \u001b[1;33m=\u001b[0m \u001b[1;34m'https://pjt3591oo.github.io'\u001b[0m\u001b[1;33m\u001b[0m\u001b[1;33m\u001b[0m\u001b[0m\n\u001b[0;32m      3\u001b[0m \u001b[0mdriver\u001b[0m \u001b[1;33m=\u001b[0m \u001b[0mwebdriver\u001b[0m\u001b[1;33m.\u001b[0m\u001b[0mChrome\u001b[0m\u001b[1;33m(\u001b[0m\u001b[1;34m'chromedriver'\u001b[0m\u001b[1;33m)\u001b[0m\u001b[1;33m\u001b[0m\u001b[1;33m\u001b[0m\u001b[0m\n\u001b[1;32m----> 4\u001b[1;33m \u001b[0mdriver\u001b[0m\u001b[1;33m.\u001b[0m\u001b[0mfind_element_by_css_selector\u001b[0m\u001b[1;33m(\u001b[0m\u001b[1;34m'.a'\u001b[0m\u001b[1;33m)\u001b[0m\u001b[1;33m\u001b[0m\u001b[1;33m\u001b[0m\u001b[0m\n\u001b[0m",
            "\u001b[1;32mC:\\ProgramData\\Anaconda3\\lib\\site-packages\\selenium\\webdriver\\remote\\webdriver.py\u001b[0m in \u001b[0;36mfind_element_by_css_selector\u001b[1;34m(self, css_selector)\u001b[0m\n\u001b[0;32m    596\u001b[0m             \u001b[0melement\u001b[0m \u001b[1;33m=\u001b[0m \u001b[0mdriver\u001b[0m\u001b[1;33m.\u001b[0m\u001b[0mfind_element_by_css_selector\u001b[0m\u001b[1;33m(\u001b[0m\u001b[1;34m'#foo'\u001b[0m\u001b[1;33m)\u001b[0m\u001b[1;33m\u001b[0m\u001b[1;33m\u001b[0m\u001b[0m\n\u001b[0;32m    597\u001b[0m         \"\"\"\n\u001b[1;32m--> 598\u001b[1;33m         \u001b[1;32mreturn\u001b[0m \u001b[0mself\u001b[0m\u001b[1;33m.\u001b[0m\u001b[0mfind_element\u001b[0m\u001b[1;33m(\u001b[0m\u001b[0mby\u001b[0m\u001b[1;33m=\u001b[0m\u001b[0mBy\u001b[0m\u001b[1;33m.\u001b[0m\u001b[0mCSS_SELECTOR\u001b[0m\u001b[1;33m,\u001b[0m \u001b[0mvalue\u001b[0m\u001b[1;33m=\u001b[0m\u001b[0mcss_selector\u001b[0m\u001b[1;33m)\u001b[0m\u001b[1;33m\u001b[0m\u001b[1;33m\u001b[0m\u001b[0m\n\u001b[0m\u001b[0;32m    599\u001b[0m \u001b[1;33m\u001b[0m\u001b[0m\n\u001b[0;32m    600\u001b[0m     \u001b[1;32mdef\u001b[0m \u001b[0mfind_elements_by_css_selector\u001b[0m\u001b[1;33m(\u001b[0m\u001b[0mself\u001b[0m\u001b[1;33m,\u001b[0m \u001b[0mcss_selector\u001b[0m\u001b[1;33m)\u001b[0m\u001b[1;33m:\u001b[0m\u001b[1;33m\u001b[0m\u001b[1;33m\u001b[0m\u001b[0m\n",
            "\u001b[1;32mC:\\ProgramData\\Anaconda3\\lib\\site-packages\\selenium\\webdriver\\remote\\webdriver.py\u001b[0m in \u001b[0;36mfind_element\u001b[1;34m(self, by, value)\u001b[0m\n\u001b[0;32m    974\u001b[0m                 \u001b[0mby\u001b[0m \u001b[1;33m=\u001b[0m \u001b[0mBy\u001b[0m\u001b[1;33m.\u001b[0m\u001b[0mCSS_SELECTOR\u001b[0m\u001b[1;33m\u001b[0m\u001b[1;33m\u001b[0m\u001b[0m\n\u001b[0;32m    975\u001b[0m                 \u001b[0mvalue\u001b[0m \u001b[1;33m=\u001b[0m \u001b[1;34m'[name=\"%s\"]'\u001b[0m \u001b[1;33m%\u001b[0m \u001b[0mvalue\u001b[0m\u001b[1;33m\u001b[0m\u001b[1;33m\u001b[0m\u001b[0m\n\u001b[1;32m--> 976\u001b[1;33m         return self.execute(Command.FIND_ELEMENT, {\n\u001b[0m\u001b[0;32m    977\u001b[0m             \u001b[1;34m'using'\u001b[0m\u001b[1;33m:\u001b[0m \u001b[0mby\u001b[0m\u001b[1;33m,\u001b[0m\u001b[1;33m\u001b[0m\u001b[1;33m\u001b[0m\u001b[0m\n\u001b[0;32m    978\u001b[0m             'value': value})['value']\n",
            "\u001b[1;32mC:\\ProgramData\\Anaconda3\\lib\\site-packages\\selenium\\webdriver\\remote\\webdriver.py\u001b[0m in \u001b[0;36mexecute\u001b[1;34m(self, driver_command, params)\u001b[0m\n\u001b[0;32m    319\u001b[0m         \u001b[0mresponse\u001b[0m \u001b[1;33m=\u001b[0m \u001b[0mself\u001b[0m\u001b[1;33m.\u001b[0m\u001b[0mcommand_executor\u001b[0m\u001b[1;33m.\u001b[0m\u001b[0mexecute\u001b[0m\u001b[1;33m(\u001b[0m\u001b[0mdriver_command\u001b[0m\u001b[1;33m,\u001b[0m \u001b[0mparams\u001b[0m\u001b[1;33m)\u001b[0m\u001b[1;33m\u001b[0m\u001b[1;33m\u001b[0m\u001b[0m\n\u001b[0;32m    320\u001b[0m         \u001b[1;32mif\u001b[0m \u001b[0mresponse\u001b[0m\u001b[1;33m:\u001b[0m\u001b[1;33m\u001b[0m\u001b[1;33m\u001b[0m\u001b[0m\n\u001b[1;32m--> 321\u001b[1;33m             \u001b[0mself\u001b[0m\u001b[1;33m.\u001b[0m\u001b[0merror_handler\u001b[0m\u001b[1;33m.\u001b[0m\u001b[0mcheck_response\u001b[0m\u001b[1;33m(\u001b[0m\u001b[0mresponse\u001b[0m\u001b[1;33m)\u001b[0m\u001b[1;33m\u001b[0m\u001b[1;33m\u001b[0m\u001b[0m\n\u001b[0m\u001b[0;32m    322\u001b[0m             response['value'] = self._unwrap_value(\n\u001b[0;32m    323\u001b[0m                 response.get('value', None))\n",
            "\u001b[1;32mC:\\ProgramData\\Anaconda3\\lib\\site-packages\\selenium\\webdriver\\remote\\errorhandler.py\u001b[0m in \u001b[0;36mcheck_response\u001b[1;34m(self, response)\u001b[0m\n\u001b[0;32m    240\u001b[0m                 \u001b[0malert_text\u001b[0m \u001b[1;33m=\u001b[0m \u001b[0mvalue\u001b[0m\u001b[1;33m[\u001b[0m\u001b[1;34m'alert'\u001b[0m\u001b[1;33m]\u001b[0m\u001b[1;33m.\u001b[0m\u001b[0mget\u001b[0m\u001b[1;33m(\u001b[0m\u001b[1;34m'text'\u001b[0m\u001b[1;33m)\u001b[0m\u001b[1;33m\u001b[0m\u001b[1;33m\u001b[0m\u001b[0m\n\u001b[0;32m    241\u001b[0m             \u001b[1;32mraise\u001b[0m \u001b[0mexception_class\u001b[0m\u001b[1;33m(\u001b[0m\u001b[0mmessage\u001b[0m\u001b[1;33m,\u001b[0m \u001b[0mscreen\u001b[0m\u001b[1;33m,\u001b[0m \u001b[0mstacktrace\u001b[0m\u001b[1;33m,\u001b[0m \u001b[0malert_text\u001b[0m\u001b[1;33m)\u001b[0m\u001b[1;33m\u001b[0m\u001b[1;33m\u001b[0m\u001b[0m\n\u001b[1;32m--> 242\u001b[1;33m         \u001b[1;32mraise\u001b[0m \u001b[0mexception_class\u001b[0m\u001b[1;33m(\u001b[0m\u001b[0mmessage\u001b[0m\u001b[1;33m,\u001b[0m \u001b[0mscreen\u001b[0m\u001b[1;33m,\u001b[0m \u001b[0mstacktrace\u001b[0m\u001b[1;33m)\u001b[0m\u001b[1;33m\u001b[0m\u001b[1;33m\u001b[0m\u001b[0m\n\u001b[0m\u001b[0;32m    243\u001b[0m \u001b[1;33m\u001b[0m\u001b[0m\n\u001b[0;32m    244\u001b[0m     \u001b[1;32mdef\u001b[0m \u001b[0m_value_or_default\u001b[0m\u001b[1;33m(\u001b[0m\u001b[0mself\u001b[0m\u001b[1;33m,\u001b[0m \u001b[0mobj\u001b[0m\u001b[1;33m,\u001b[0m \u001b[0mkey\u001b[0m\u001b[1;33m,\u001b[0m \u001b[0mdefault\u001b[0m\u001b[1;33m)\u001b[0m\u001b[1;33m:\u001b[0m\u001b[1;33m\u001b[0m\u001b[1;33m\u001b[0m\u001b[0m\n",
            "\u001b[1;31mNoSuchElementException\u001b[0m: Message: no such element: Unable to locate element: {\"method\":\"css selector\",\"selector\":\".a\"}\n  (Session info: chrome=101.0.4951.54)\n"
          ]
        }
      ],
      "source": [
        "# bs4와 다르게 없는 값을 찾을 경우 빈값을 반환하는 것이 아닌 ERROR를 반환\n",
        "url = 'https://pjt3591oo.github.io'\n",
        "driver = webdriver.Chrome('chromedriver')\n",
        "driver.find_element_by_css_selector('.a')"
      ]
    },
    {
      "cell_type": "markdown",
      "id": "17f68126",
      "metadata": {
        "id": "17f68126"
      },
      "source": [
        "# 웹제어\n",
        "## 마우스 제어"
      ]
    },
    {
      "cell_type": "code",
      "execution_count": null,
      "id": "8e8f08a1",
      "metadata": {
        "id": "8e8f08a1",
        "outputId": "caa11339-fdaa-4f8d-a0ec-322240f70f73"
      },
      "outputs": [
        {
          "name": "stdout",
          "output_type": "stream",
          "text": [
            "[programming] [react] react 작업환경 설\n"
          ]
        }
      ],
      "source": [
        "# 게시판의 제목을 찾고 > 찾은 제목 tag를 눌러서 > 제목의 내용 게시판으로 넘어가기\n",
        "url = 'https://pjt3591oo.github.io'\n",
        "driver = webdriver.Chrome('chromedriver')\n",
        "driver.get(url)\n",
        "selector = driver.find_element_by_css_selector('body > main > div > div > div:nth-child(9) > h3 > a')\n",
        "print(selector.text)\n",
        "selector.click()"
      ]
    },
    {
      "cell_type": "markdown",
      "id": "6ae62fc4",
      "metadata": {
        "id": "6ae62fc4"
      },
      "source": [
        "## 키보드 제어"
      ]
    },
    {
      "cell_type": "code",
      "execution_count": null,
      "id": "5a596f91",
      "metadata": {
        "id": "5a596f91"
      },
      "outputs": [],
      "source": [
        "url = 'https://pjt3591oo.github.io/search'\n",
        "driver = webdriver.Chrome('chromedriver')\n",
        "driver.get(url)"
      ]
    },
    {
      "cell_type": "code",
      "execution_count": null,
      "id": "e0486f4a",
      "metadata": {
        "id": "e0486f4a"
      },
      "outputs": [],
      "source": [
        "box = driver.find_element_by_css_selector('input#search-box')\n",
        "# 입력\n",
        "# box.send_keys(입력하고자 하는 문자)\n",
        "box.send_keys('db')"
      ]
    },
    {
      "cell_type": "code",
      "execution_count": null,
      "id": "452897e9",
      "metadata": {
        "id": "452897e9"
      },
      "outputs": [],
      "source": [
        "from selenium.webdriver.common.keys import Keys"
      ]
    },
    {
      "cell_type": "code",
      "execution_count": null,
      "id": "1ad1ff03",
      "metadata": {
        "id": "1ad1ff03"
      },
      "outputs": [],
      "source": [
        "box.send_keys(Keys.ENTER)"
      ]
    },
    {
      "cell_type": "code",
      "execution_count": null,
      "id": "a3279e5f",
      "metadata": {
        "id": "a3279e5f"
      },
      "outputs": [],
      "source": [
        "from bs4 import BeautifulSoup"
      ]
    },
    {
      "cell_type": "code",
      "execution_count": null,
      "id": "1511413a",
      "metadata": {
        "id": "1511413a",
        "outputId": "22b3e3a5-8449-4353-a4ac-596e84720798"
      },
      "outputs": [
        {
          "name": "stdout",
          "output_type": "stream",
          "text": [
            "Javascript Asynchronous, synchronous and Promise\n",
            "Structure aiohttp Of python\n",
            "mysqldump를 이용하여 데이터 백업, 복원하기\n",
            "sequelize - Migrations[번역]\n",
            "Structure Express Of Node\n",
            "sequelize - Getting Started[번역]\n",
            "docker commends\n",
            "ubuntu에 php 개발환경 셋팅\n",
            "mysql 원격접속하는 방법\n",
            "RDBMS vs NoSQL vs InMemory\n",
            "sequelize - Usage[번역]\n"
          ]
        }
      ],
      "source": [
        "# beautifulsoup을 같이 사용하는 방법\n",
        "soup = BeautifulSoup(driver.page_source, 'lxml')\n",
        "title_tag = soup.select('h3')\n",
        "for i in title_tag:\n",
        "    print(i.text)"
      ]
    },
    {
      "cell_type": "code",
      "execution_count": null,
      "id": "93536c27",
      "metadata": {
        "collapsed": true,
        "id": "93536c27",
        "outputId": "0b5a0224-4439-448c-931a-a9c9f4adcf3a"
      },
      "outputs": [
        {
          "name": "stdout",
          "output_type": "stream",
          "text": [
            "Javascript Asynchronous, synchronous and Promise\n",
            "Structure aiohttp Of python\n",
            "mysqldump를 이용하여 데이터 백업, 복원하기\n",
            "sequelize - Migrations[번역]\n",
            "Structure Express Of Node\n",
            "sequelize - Getting Started[번역]\n",
            "docker commends\n",
            "ubuntu에 php 개발환경 셋팅\n",
            "mysql 원격접속하는 방법\n",
            "RDBMS vs NoSQL vs InMemory\n",
            "sequelize - Usage[번역]\n"
          ]
        }
      ],
      "source": [
        "# 쉬어가는 주기 넣기\n",
        "import time\n",
        "#페이지 로드\n",
        "url = 'https://pjt3591oo.github.io/search'\n",
        "driver = webdriver.Chrome('chromedriver')\n",
        "driver.get(url)\n",
        "# 검색창 선택\n",
        "box = driver.find_element_by_css_selector('input#search-box')\n",
        "# 검색 내용 입력\n",
        "# time.sleep(4)\n",
        "driver.implicitly_wait(4) # 초단위\n",
        "box.send_keys('db')\n",
        "# 검색\n",
        "box.send_keys(Keys.ENTER)\n",
        "# 검색된 페이지의 정보를 들고옴\n",
        "time.sleep(3) # 초단위\n",
        "soup = BeautifulSoup(driver.page_source, 'lxml')\n",
        "title_tag = soup.select('h3')\n",
        "for i in title_tag:\n",
        "    print(i.text)"
      ]
    },
    {
      "cell_type": "code",
      "execution_count": null,
      "id": "435c9939",
      "metadata": {
        "id": "435c9939",
        "outputId": "81a09edd-2200-4a0e-8d0c-bcb1e8d573cd"
      },
      "outputs": [
        {
          "data": {
            "text/plain": [
              "1"
            ]
          },
          "execution_count": 46,
          "metadata": {},
          "output_type": "execute_result"
        }
      ],
      "source": [
        "import random\n",
        "random.randint(1,2)"
      ]
    },
    {
      "cell_type": "code",
      "execution_count": null,
      "id": "ae2baf6a",
      "metadata": {
        "id": "ae2baf6a"
      },
      "outputs": [],
      "source": [
        "# 페이지 이동\n",
        "# 서버에서 데이터가 다 불러와질때까지 최대 \n",
        "# 요소 찾기 - 검색창 찾고 키 전송(고슴도치)\n",
        "# 요소 찾기 - 지식백과에서 고슴도치 클릭"
      ]
    },
    {
      "cell_type": "code",
      "execution_count": null,
      "id": "5466d019",
      "metadata": {
        "id": "5466d019"
      },
      "outputs": [],
      "source": [
        "# 스타벅스 부산 매장 이름 크롤링\n",
        "# 결과 : 사하장림DT, 하단중앙......\n",
        "# 지점이름 출력\n",
        "# sleep 시간 사용 필요\n",
        "import random\n",
        "url = 'https://www.starbucks.co.kr/store/store_map.do?disp=locale'\n",
        "driver =webdriver.Chrome('chromedriver')\n",
        "driver.get(url)\n",
        "num = random.randint(1,2)\n",
        "driver.implicitly_wait(num)\n",
        "sido = driver.find_elements_by_css_selector('a.set_sido_cd_btn')\n",
        "sido[5].click()\n",
        "num = random.randint(1,2)\n",
        "driver.implicitly_wait(num)\n",
        "gugun = driver.find_elements_by_css_selector('a.set_gugun_cd_btn')\n",
        "gugun[10].click()\n",
        "num = random.randint(2,4)\n",
        "driver.implicitly_wait(num)"
      ]
    },
    {
      "cell_type": "code",
      "execution_count": null,
      "id": "cfc32c9f",
      "metadata": {
        "id": "cfc32c9f",
        "outputId": "503fb124-f84a-45b4-9306-fa45afec7eef"
      },
      "outputs": [
        {
          "name": "stdout",
          "output_type": "stream",
          "text": [
            "['사하장림DT  ', '하단중앙  ', '부산괴정역  ', '부산동아대  ', '을숙도강변DT  ', '다대포DT  ', '부산하단  ', '다대포비치  ']\n"
          ]
        }
      ],
      "source": [
        "soup = BeautifulSoup(driver.page_source, 'lxml')\n",
        "store = soup.select('li.quickResultLstCon strong')\n",
        "result=[]\n",
        "for i in store:\n",
        "    result.append(i.text)\n",
        "print(result)"
      ]
    },
    {
      "cell_type": "code",
      "execution_count": null,
      "id": "4ef8951e",
      "metadata": {
        "id": "4ef8951e"
      },
      "outputs": [],
      "source": [
        "# google 번역기에서 영어를 한글로 뽑아오기\n",
        "# 1. https://en.wikipedia.org/wiki/Main_Page 에서 원하는 검색어(ex: psy) 검색\n",
        "# 2. 검색결과(영어) 들고와서 변수로 선언\n",
        "# 3. https://translate.google.co.kr/?hl=ko&tab=wT&sl=en&tl=ko&op=translate 에서\n",
        "#    영어 내용을 입력 \n",
        "# 4. 번역된 결과를 반환받아서 수행\n",
        "# * 번역과정에서 시간이 소요되므로 sleep 시간을 지정해야함"
      ]
    },
    {
      "cell_type": "code",
      "execution_count": null,
      "id": "1e8dfaa1",
      "metadata": {
        "id": "1e8dfaa1",
        "outputId": "04b5c208-1984-42fb-ac17-373769514fc9"
      },
      "outputs": [
        {
          "name": "stdout",
          "output_type": "stream",
          "text": [
            "무료 백과 사전, 위키피디아에서\n"
          ]
        }
      ],
      "source": [
        "url ='https://en.wikipedia.org/wiki/Main_Page'\n",
        "driver = webdriver.Chrome('chromedriver')\n",
        "driver.get(url)\n",
        "input_cl = driver.find_element_by_css_selector('#searchInput')\n",
        "input_cl.click()\n",
        "input_tr = driver.find_element_by_css_selector('#searchInput')\n",
        "input_tr.send_keys('psy')\n",
        "cl_submit = driver.find_element_by_css_selector('#searchButton')\n",
        "cl_submit.click()\n",
        "val = driver.find_element_by_css_selector('#siteSub').text\n",
        "\n",
        "url ='https://translate.google.co.kr/?hl=ko&sl=en&tl=ko&op=translate'\n",
        "driver.get(url)\n",
        "input_cl = driver.find_element_by_css_selector('#yDmH0d > c-wiz > div > div.WFnNle > c-wiz > div.OlSOob > c-wiz > div.ccvoYb > div.AxqVh > div.OPPzxe > c-wiz.rm1UF.UnxENd > span > span > div > textarea')\n",
        "input_cl.click()\n",
        "time.sleep(1)\n",
        "input_cl.send_keys(val)\n",
        "time.sleep(2)\n",
        "translate = driver.find_element_by_css_selector('#yDmH0d > c-wiz > div > div.WFnNle > c-wiz > div.OlSOob > c-wiz > div.ccvoYb > div.AxqVh > div.OPPzxe > c-wiz.P6w8m.BDJ8fb > div.dePhmb > div > div.J0lOec > span.VIiyi > span > span')\n",
        "print(translate.text)"
      ]
    },
    {
      "cell_type": "code",
      "execution_count": null,
      "id": "4317ab6c",
      "metadata": {
        "id": "4317ab6c"
      },
      "outputs": [],
      "source": [
        ""
      ]
    },
    {
      "cell_type": "code",
      "execution_count": null,
      "id": "251147ae",
      "metadata": {
        "id": "251147ae"
      },
      "outputs": [],
      "source": [
        ""
      ]
    },
    {
      "cell_type": "code",
      "execution_count": null,
      "id": "ebf171bf",
      "metadata": {
        "id": "ebf171bf"
      },
      "outputs": [],
      "source": [
        ""
      ]
    },
    {
      "cell_type": "code",
      "execution_count": null,
      "id": "305f3e53",
      "metadata": {
        "id": "305f3e53"
      },
      "outputs": [],
      "source": [
        ""
      ]
    },
    {
      "cell_type": "code",
      "execution_count": null,
      "id": "e008ad7c",
      "metadata": {
        "id": "e008ad7c"
      },
      "outputs": [],
      "source": [
        ""
      ]
    },
    {
      "cell_type": "code",
      "execution_count": null,
      "id": "ec506264",
      "metadata": {
        "id": "ec506264"
      },
      "outputs": [],
      "source": [
        ""
      ]
    }
  ],
  "metadata": {
    "kernelspec": {
      "display_name": "Python 3",
      "language": "python",
      "name": "python3"
    },
    "language_info": {
      "codemirror_mode": {
        "name": "ipython",
        "version": 3
      },
      "file_extension": ".py",
      "mimetype": "text/x-python",
      "name": "python",
      "nbconvert_exporter": "python",
      "pygments_lexer": "ipython3",
      "version": "3.8.8"
    },
    "colab": {
      "name": "동적크롤링.ipynb",
      "provenance": [],
      "include_colab_link": true
    }
  },
  "nbformat": 4,
  "nbformat_minor": 5
}